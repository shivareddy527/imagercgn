{
 "cells": [
  {
   "cell_type": "code",
   "execution_count": 1,
   "metadata": {},
   "outputs": [
    {
     "name": "stderr",
     "output_type": "stream",
     "text": [
      "Using TensorFlow backend.\n"
     ]
    }
   ],
   "source": [
    "from keras.models import Sequential\n",
    "from keras.layers import Dense\n",
    "from keras.layers import Conv2D\n",
    "from keras.layers import MaxPooling2D\n",
    "from keras.layers import Flatten"
   ]
  },
  {
   "cell_type": "code",
   "execution_count": 2,
   "metadata": {},
   "outputs": [],
   "source": [
    "model = Sequential()"
   ]
  },
  {
   "cell_type": "code",
   "execution_count": 3,
   "metadata": {},
   "outputs": [
    {
     "name": "stdout",
     "output_type": "stream",
     "text": [
      "WARNING:tensorflow:From C:\\Users\\Manohar\\Anaconda3\\lib\\site-packages\\tensorflow\\python\\framework\\op_def_library.py:263: colocate_with (from tensorflow.python.framework.ops) is deprecated and will be removed in a future version.\n",
      "Instructions for updating:\n",
      "Colocations handled automatically by placer.\n"
     ]
    },
    {
     "name": "stderr",
     "output_type": "stream",
     "text": [
      "C:\\Users\\Manohar\\Anaconda3\\lib\\site-packages\\ipykernel_launcher.py:1: UserWarning: Update your `Conv2D` call to the Keras 2 API: `Conv2D(32, (3, 3), input_shape=(64, 64, 3..., activation=\"relu\")`\n",
      "  \"\"\"Entry point for launching an IPython kernel.\n"
     ]
    }
   ],
   "source": [
    "model.add(Conv2D(32,3,3,input_shape=(64,64,3),activation ='relu'))"
   ]
  },
  {
   "cell_type": "code",
   "execution_count": 4,
   "metadata": {},
   "outputs": [],
   "source": [
    "model.add(MaxPooling2D(pool_size=(2,2)))"
   ]
  },
  {
   "cell_type": "code",
   "execution_count": 5,
   "metadata": {},
   "outputs": [],
   "source": [
    "model.add(Flatten())"
   ]
  },
  {
   "cell_type": "code",
   "execution_count": 6,
   "metadata": {},
   "outputs": [
    {
     "name": "stderr",
     "output_type": "stream",
     "text": [
      "C:\\Users\\Manohar\\Anaconda3\\lib\\site-packages\\ipykernel_launcher.py:1: UserWarning: Update your `Dense` call to the Keras 2 API: `Dense(activation=\"relu\", units=128, kernel_initializer=\"random_uniform\")`\n",
      "  \"\"\"Entry point for launching an IPython kernel.\n"
     ]
    }
   ],
   "source": [
    "model.add(Dense(output_dim=128,activation='relu',init='random_uniform'))"
   ]
  },
  {
   "cell_type": "code",
   "execution_count": 7,
   "metadata": {},
   "outputs": [
    {
     "name": "stderr",
     "output_type": "stream",
     "text": [
      "C:\\Users\\Manohar\\Anaconda3\\lib\\site-packages\\ipykernel_launcher.py:1: UserWarning: Update your `Dense` call to the Keras 2 API: `Dense(activation=\"sigmoid\", units=1, kernel_initializer=\"random_uniform\")`\n",
      "  \"\"\"Entry point for launching an IPython kernel.\n"
     ]
    }
   ],
   "source": [
    "model.add(Dense(output_dim=1,activation='sigmoid',init='random_uniform'))"
   ]
  },
  {
   "cell_type": "code",
   "execution_count": 8,
   "metadata": {},
   "outputs": [],
   "source": [
    "model.compile(optimizer='adam',loss='binary_crossentropy',metrics=['accuracy'])"
   ]
  },
  {
   "cell_type": "code",
   "execution_count": 9,
   "metadata": {},
   "outputs": [],
   "source": [
    "from keras.preprocessing.image import ImageDataGenerator"
   ]
  },
  {
   "cell_type": "code",
   "execution_count": 17,
   "metadata": {},
   "outputs": [],
   "source": [
    "train_datagen=ImageDataGenerator(rescale=1./255,shear_range=0.2,zoom_range=0.2,horizontal_flip=True)\n",
    "test_datagen=ImageDataGenerator(rescale=1./255)\n"
   ]
  },
  {
   "cell_type": "code",
   "execution_count": 18,
   "metadata": {},
   "outputs": [
    {
     "name": "stdout",
     "output_type": "stream",
     "text": [
      "Found 1600 images belonging to 2 classes.\n",
      "Found 400 images belonging to 2 classes.\n"
     ]
    }
   ],
   "source": [
    "x_train=train_datagen.flow_from_directory(r'C:\\Users\\Manohar\\Desktop\\smart security\\train',target_size=(64,64),batch_size=32,class_mode='binary')\n",
    "x_test =test_datagen.flow_from_directory(r'C:\\Users\\Manohar\\Desktop\\smart security\\test',target_size=(64,64),batch_size=32,class_mode='binary')\n",
    "                                        "
   ]
  },
  {
   "cell_type": "code",
   "execution_count": 19,
   "metadata": {},
   "outputs": [
    {
     "name": "stdout",
     "output_type": "stream",
     "text": [
      "{'Akhil': 0, 'Shiva': 1}\n"
     ]
    }
   ],
   "source": [
    "print(x_train.class_indices)"
   ]
  },
  {
   "cell_type": "code",
   "execution_count": 20,
   "metadata": {},
   "outputs": [
    {
     "name": "stdout",
     "output_type": "stream",
     "text": [
      "WARNING:tensorflow:From C:\\Users\\Manohar\\Anaconda3\\lib\\site-packages\\tensorflow\\python\\ops\\math_ops.py:3066: to_int32 (from tensorflow.python.ops.math_ops) is deprecated and will be removed in a future version.\n",
      "Instructions for updating:\n",
      "Use tf.cast instead.\n"
     ]
    },
    {
     "name": "stderr",
     "output_type": "stream",
     "text": [
      "C:\\Users\\Manohar\\Anaconda3\\lib\\site-packages\\ipykernel_launcher.py:1: UserWarning: The semantics of the Keras 2 argument `steps_per_epoch` is not the same as the Keras 1 argument `samples_per_epoch`. `steps_per_epoch` is the number of batches to draw from the generator at each epoch. Basically steps_per_epoch = samples_per_epoch/batch_size. Similarly `nb_val_samples`->`validation_steps` and `val_samples`->`steps` arguments have changed. Update your method calls accordingly.\n",
      "  \"\"\"Entry point for launching an IPython kernel.\n",
      "C:\\Users\\Manohar\\Anaconda3\\lib\\site-packages\\ipykernel_launcher.py:1: UserWarning: Update your `fit_generator` call to the Keras 2 API: `fit_generator(<keras_pre..., epochs=30, validation_data=<keras_pre..., steps_per_epoch=50, validation_steps=400)`\n",
      "  \"\"\"Entry point for launching an IPython kernel.\n"
     ]
    },
    {
     "name": "stdout",
     "output_type": "stream",
     "text": [
      "Epoch 1/30\n",
      "50/50 [==============================] - 75s 1s/step - loss: 0.6405 - acc: 0.7281 - val_loss: 0.4605 - val_acc: 0.8426\n",
      "Epoch 2/30\n",
      "50/50 [==============================] - 48s 952ms/step - loss: 0.1802 - acc: 0.9663 - val_loss: 1.3062 - val_acc: 0.7877\n",
      "Epoch 3/30\n",
      "50/50 [==============================] - 47s 947ms/step - loss: 0.0904 - acc: 0.9800 - val_loss: 1.3738 - val_acc: 0.8224\n",
      "Epoch 4/30\n",
      "50/50 [==============================] - 46s 915ms/step - loss: 0.0730 - acc: 0.9875 - val_loss: 1.2390 - val_acc: 0.8352\n",
      "Epoch 5/30\n",
      "50/50 [==============================] - 47s 937ms/step - loss: 0.0547 - acc: 0.9894 - val_loss: 1.2357 - val_acc: 0.8251\n",
      "Epoch 6/30\n",
      "50/50 [==============================] - 46s 919ms/step - loss: 0.0712 - acc: 0.9806 - val_loss: 1.0161 - val_acc: 0.8526\n",
      "Epoch 7/30\n",
      "50/50 [==============================] - 47s 934ms/step - loss: 0.0691 - acc: 0.9819 - val_loss: 0.9097 - val_acc: 0.8294\n",
      "Epoch 8/30\n",
      "50/50 [==============================] - 47s 937ms/step - loss: 0.0342 - acc: 0.9912 - val_loss: 1.1457 - val_acc: 0.8231\n",
      "Epoch 9/30\n",
      "50/50 [==============================] - 46s 916ms/step - loss: 0.0307 - acc: 0.9919 - val_loss: 0.8360 - val_acc: 0.8347\n",
      "Epoch 10/30\n",
      "50/50 [==============================] - 48s 965ms/step - loss: 0.0291 - acc: 0.9919 - val_loss: 0.7234 - val_acc: 0.8422\n",
      "Epoch 11/30\n",
      "50/50 [==============================] - 47s 942ms/step - loss: 0.0228 - acc: 0.9956 - val_loss: 0.9406 - val_acc: 0.8128\n",
      "Epoch 12/30\n",
      "50/50 [==============================] - 48s 965ms/step - loss: 0.0189 - acc: 0.9950 - val_loss: 0.9066 - val_acc: 0.8375\n",
      "Epoch 13/30\n",
      "50/50 [==============================] - 48s 955ms/step - loss: 0.0211 - acc: 0.9931 - val_loss: 0.6662 - val_acc: 0.8401\n",
      "Epoch 14/30\n",
      "50/50 [==============================] - 45s 895ms/step - loss: 0.0134 - acc: 0.9956 - val_loss: 1.0729 - val_acc: 0.8123\n",
      "Epoch 15/30\n",
      "50/50 [==============================] - 46s 916ms/step - loss: 0.0163 - acc: 0.9938 - val_loss: 0.6029 - val_acc: 0.8505\n",
      "Epoch 16/30\n",
      "50/50 [==============================] - 46s 927ms/step - loss: 0.0098 - acc: 0.9975 - val_loss: 0.8089 - val_acc: 0.8300\n",
      "Epoch 17/30\n",
      "50/50 [==============================] - 47s 936ms/step - loss: 0.0123 - acc: 0.9963 - val_loss: 0.8207 - val_acc: 0.8396\n",
      "Epoch 18/30\n",
      "50/50 [==============================] - 46s 921ms/step - loss: 0.0087 - acc: 0.9975 - val_loss: 1.0450 - val_acc: 0.8127\n",
      "Epoch 19/30\n",
      "50/50 [==============================] - 45s 907ms/step - loss: 0.0132 - acc: 0.9950 - val_loss: 0.7476 - val_acc: 0.8045\n",
      "Epoch 20/30\n",
      "50/50 [==============================] - 47s 936ms/step - loss: 0.0102 - acc: 0.9969 - val_loss: 0.7445 - val_acc: 0.8380\n",
      "Epoch 21/30\n",
      "50/50 [==============================] - 47s 941ms/step - loss: 0.0071 - acc: 0.9975 - val_loss: 0.8042 - val_acc: 0.8449\n",
      "Epoch 22/30\n",
      "50/50 [==============================] - 46s 918ms/step - loss: 0.0040 - acc: 0.9994 - val_loss: 0.7883 - val_acc: 0.8349\n",
      "Epoch 23/30\n",
      "50/50 [==============================] - 46s 915ms/step - loss: 0.0064 - acc: 0.9981 - val_loss: 1.2196 - val_acc: 0.8376\n",
      "Epoch 24/30\n",
      "50/50 [==============================] - 47s 934ms/step - loss: 0.0092 - acc: 0.9956 - val_loss: 0.7542 - val_acc: 0.8401\n",
      "Epoch 25/30\n",
      "50/50 [==============================] - 47s 936ms/step - loss: 0.0134 - acc: 0.9975 - val_loss: 0.7181 - val_acc: 0.8399\n",
      "Epoch 26/30\n",
      "50/50 [==============================] - 46s 919ms/step - loss: 0.0076 - acc: 0.9975 - val_loss: 1.3592 - val_acc: 0.8101\n",
      "Epoch 27/30\n",
      "50/50 [==============================] - 50s 999ms/step - loss: 0.0117 - acc: 0.9969 - val_loss: 0.3952 - val_acc: 0.8600\n",
      "Epoch 28/30\n",
      "50/50 [==============================] - 51s 1s/step - loss: 0.0041 - acc: 0.9994 - val_loss: 0.6288 - val_acc: 0.8496\n",
      "Epoch 29/30\n",
      "50/50 [==============================] - 47s 945ms/step - loss: 0.0046 - acc: 0.9981 - val_loss: 0.8364 - val_acc: 0.8479\n",
      "Epoch 30/30\n",
      "50/50 [==============================] - 47s 931ms/step - loss: 0.0086 - acc: 0.9975 - val_loss: 0.5432 - val_acc: 0.8401\n"
     ]
    },
    {
     "data": {
      "text/plain": [
       "<keras.callbacks.History at 0x2278c42dcf8>"
      ]
     },
     "execution_count": 20,
     "metadata": {},
     "output_type": "execute_result"
    }
   ],
   "source": [
    "model.fit_generator(x_train,samples_per_epoch =1600,epochs=30,validation_data=x_test,nb_val_samples=400)"
   ]
  },
  {
   "cell_type": "code",
   "execution_count": 23,
   "metadata": {},
   "outputs": [],
   "source": [
    "model.save(\"cnn.h5\")\n"
   ]
  },
  {
   "cell_type": "code",
   "execution_count": 25,
   "metadata": {},
   "outputs": [
    {
     "name": "stdout",
     "output_type": "stream",
     "text": [
      "[[0.4070717]]\n",
      "[[0]]\n"
     ]
    }
   ],
   "source": [
    "from keras.models import load_model\n",
    "import numpy as np\n",
    "import cv2\n",
    "model =load_model('cnn.h5')\n",
    "model.compile(optimizer='adam',loss='binary_crossentropy',metrics=['accuracy'])\n",
    "\n",
    "from skimage.transform import resize\n",
    "def detect(frame):\n",
    "    try:\n",
    "        img= resize(frame,(64,64))\n",
    "        img = np.expand_dims(img,axis=0)\n",
    "        if(np.max(img)>1):\n",
    "            img =img/255.0\n",
    "        prediction =model.predict(img)\n",
    "        print (prediction)\n",
    "        prediction_class = model.predict_classes(img)\n",
    "        print(prediction_class)\n",
    "    except AttributeError:\n",
    "        print(\"shape not found\")\n",
    "\n",
    "frame= cv2.imread(r\"C:\\Users\\Manohar\\Desktop\\smart security\\train\\Shiva\\Shiva16.png\")\n",
    "data= detect(frame)"
   ]
  },
  {
   "cell_type": "code",
   "execution_count": null,
   "metadata": {},
   "outputs": [],
   "source": []
  },
  {
   "cell_type": "code",
   "execution_count": null,
   "metadata": {},
   "outputs": [],
   "source": []
  }
 ],
 "metadata": {
  "kernelspec": {
   "display_name": "Python 3",
   "language": "python",
   "name": "python3"
  },
  "language_info": {
   "codemirror_mode": {
    "name": "ipython",
    "version": 3
   },
   "file_extension": ".py",
   "mimetype": "text/x-python",
   "name": "python",
   "nbconvert_exporter": "python",
   "pygments_lexer": "ipython3",
   "version": "3.7.3"
  }
 },
 "nbformat": 4,
 "nbformat_minor": 2
}
